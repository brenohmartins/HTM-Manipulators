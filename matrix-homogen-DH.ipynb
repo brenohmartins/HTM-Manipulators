{
 "cells": [
  {
   "cell_type": "markdown",
   "metadata": {},
   "source": [
    "#### Study about homogeneous matrix using Denavit-Hartenberg mothod to analyze links and frames of a robotic manipulator."
   ]
  },
  {
   "cell_type": "markdown",
   "metadata": {},
   "source": [
    "In this study we'll use the homogeneous matrix generic and the D-H table of joints \"i\" with the values of $\\theta_i$, $d_i$, $a_i$ and $\\alpha_i$, to get the final matrix homogeneous with values of (x,y,z, scale factor);\n",
    "\n",
    "Our 4x4 matrix hoegenous is: $$T_{i}^{i-1} =  \n",
    "    \\begin{pmatrix}\n",
    "        cos\\theta_i & -sen\\theta_icos\\alpha_i & sen\\theta_i sen\\alpha_i & a_i cos\\theta_i\\\\\n",
    "        sen\\theta_i & cos\\theta_i cos\\alpha_i & -cos\\theta_i sen\\alpha_i & a_i sen\\theta_i\\\\\n",
    "        0 & sen\\alpha_i & cos\\alpha_i & d_i \\\\\n",
    "        0 & 0 & 0 & 1\n",
    "    \\end{pmatrix}\n",
    "    $$               \n",
    "\n",
    "And the Denavit-Hartenberg table:\n",
    "| i | $$\\theta_i$$ | $$d_i$$ | $$a_i$$ | $$\\alpha_i$$ |\n",
    "|---|--------------|---------|---------|--------------|\n",
    "\n",
    "The value of \"i\" is variable with the degrees of freedom of robotic manipulator"
   ]
  },
  {
   "cell_type": "markdown",
   "metadata": {},
   "source": [
    "##### Exemple: In a manipulator with 2 DoF, we have:"
   ]
  },
  {
   "cell_type": "markdown",
   "metadata": {},
   "source": [
    "D-H table for 2 DoF:\n",
    "And the Denavit-Hartenberg table:\n",
    "| i | $$\\theta_i$$ | $$d_i$$ | $$a_i$$ | $$\\alpha_i$$ |\n",
    "|---|--------------|---------|---------|--------------|\n",
    "| 1 | $$\\theta_1$$ | $$d_1$$ | $$a_1$$ | $$\\alpha_1$$ |\n",
    "| 2 | $$\\theta_2$$ | $$d_2$$ | $$a_2$$ | $$\\alpha_2$$ |\n",
    "\n",
    "To complete the table we have to follow this steps:\n",
    "- $\\theta_i$ = Rotate the $X_{i-1}$ axis arround $Z_{i-1}$ until it is parallel to the $X_i$ axis;\n",
    "- $d_i$ = Translate $frame_{i-1}$ along $Z_{i-1}$ to the intersection of $Z_{i-1}$ and $X_i$;\n",
    "- $a_i$ = Translate $frame_i$ along $X_i$ until the intersection between $Z_{i-1}$ and $X_i$;\n",
    "- $\\alpha_i$ = Rotate the $Z_{i-1}$ axis arround $X_i$ until it is parallel to the $Z_i$ axis;"
   ]
  },
  {
   "cell_type": "code",
   "execution_count": 7,
   "metadata": {},
   "outputs": [],
   "source": [
    "#import library\n",
    "import math\n",
    "import numpy as np"
   ]
  },
  {
   "cell_type": "code",
   "execution_count": 4,
   "metadata": {},
   "outputs": [],
   "source": [
    "# Define the function cos and sin to use in the matrix transformations\n",
    "\n",
    "cos = math.cos\n",
    "sin = math.sin\n",
    "\n",
    "alpha = 'a'\n",
    "theta = 't'\n",
    "d = 'd'\n",
    "a = 'a'"
   ]
  },
  {
   "cell_type": "code",
   "execution_count": null,
   "metadata": {},
   "outputs": [],
   "source": [
    "# Inform the values o \"theta\", \"alpha\", \"d\", and \"a\" and it will show in a matrix D-H\n",
    "\n",
    "#alpha, theta, d, a = list(input(\"Informe the values: \").split())\n",
    "\n",
    "values_DH = np.array([theta, d, a, alpha])\n",
    "\n",
    "print(\"The matrix of Denavit-Hartemberg is\",values_DH)"
   ]
  }
 ],
 "metadata": {
  "kernelspec": {
   "display_name": "Python 3",
   "language": "python",
   "name": "python3"
  },
  "language_info": {
   "codemirror_mode": {
    "name": "ipython",
    "version": 3
   },
   "file_extension": ".py",
   "mimetype": "text/x-python",
   "name": "python",
   "nbconvert_exporter": "python",
   "pygments_lexer": "ipython3",
   "version": "3.10.12"
  }
 },
 "nbformat": 4,
 "nbformat_minor": 2
}
